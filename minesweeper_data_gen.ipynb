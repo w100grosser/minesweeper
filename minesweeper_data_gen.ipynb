{
 "cells": [
  {
   "cell_type": "code",
   "execution_count": null,
   "metadata": {},
   "outputs": [],
   "source": [
    "from engine import Minesweeper\n",
    "import numpy as np\n",
    "from matplotlib import pyplot as plt\n",
    "import matplotlib.image as mpimg\n"
   ]
  },
  {
   "cell_type": "code",
   "execution_count": null,
   "metadata": {},
   "outputs": [],
   "source": [
    "def visualize_board(game):\n",
    "    \"\"\"\n",
    "    Visualizes the Minesweeper board using provided images.\n",
    "\n",
    "    :param game: Minesweeper game object\n",
    "    :return: None\n",
    "    \"\"\"\n",
    "    # Mapping each cell value to its corresponding image\n",
    "    image_dict = {\n",
    "        -1: 'mine.png',\n",
    "        -3: 'flag.png',\n",
    "        -4: 'covered.png'\n",
    "    }\n",
    "\n",
    "    for i in range(9):  # 0-8 for the number of mines in the surrounding cells\n",
    "        image_dict[i] = f'{i}.png'\n",
    "    print(image_dict)\n",
    "    fig, ax = plt.subplots(figsize=(10, 10))\n",
    "\n",
    "    # Go through each cell and display its corresponding image\n",
    "    for i in range(game.board.shape[0]):\n",
    "        for j in range(game.board.shape[1]):\n",
    "            # If the cell is revealed\n",
    "            if game.revealed[i][j] == 1:\n",
    "                cell_value = game.board[i][j]\n",
    "            else:\n",
    "                cell_value = -4  # Covered/Hidden\n",
    "            ax.imshow(mpimg.imread(f'images/{image_dict[cell_value]}'), extent=(j, j+1, game.board.shape[0]-i-1, game.board.shape[0]-i))\n",
    "\n",
    "    ax.set_xticks(range(game.board.shape[1]))\n",
    "    ax.set_yticks(range(game.board.shape[0]))\n",
    "    ax.set_xticklabels([])\n",
    "    ax.set_yticklabels([])\n",
    "    ax.grid(which='both')\n",
    "\n",
    "    plt.show()\n"
   ]
  },
  {
   "cell_type": "code",
   "execution_count": null,
   "metadata": {},
   "outputs": [],
   "source": [
    "# Initialize the game object and visualize the board\n",
    "board_shape = (10,10)\n",
    "num_mines = 9\n",
    "game = Minesweeper(board_shape, num_mines)\n",
    "visualize_board(game)"
   ]
  },
  {
   "cell_type": "code",
   "execution_count": null,
   "metadata": {},
   "outputs": [],
   "source": [
    "# Uncover the first box randomly\n",
    "game.reveal_random()\n",
    "visualize_board(game)"
   ]
  },
  {
   "cell_type": "code",
   "execution_count": null,
   "metadata": {},
   "outputs": [],
   "source": [
    "# Uncover the more tiles randomly \"num_reveals\" times\n",
    "num_reveals = 2\n",
    "game.reveal_random_more(num_reveals)\n",
    "visualize_board(game)"
   ]
  }
 ],
 "metadata": {
  "kernelspec": {
   "display_name": "minesweeper",
   "language": "python",
   "name": "python3"
  },
  "language_info": {
   "codemirror_mode": {
    "name": "ipython",
    "version": 3
   },
   "file_extension": ".py",
   "mimetype": "text/x-python",
   "name": "python",
   "nbconvert_exporter": "python",
   "pygments_lexer": "ipython3",
   "version": "3.11.5"
  },
  "orig_nbformat": 4
 },
 "nbformat": 4,
 "nbformat_minor": 2
}
